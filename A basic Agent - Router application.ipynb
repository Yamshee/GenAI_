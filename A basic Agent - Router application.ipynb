{
 "cells": [
  {
   "cell_type": "code",
   "execution_count": 0,
   "metadata": {
    "application/vnd.databricks.v1+cell": {
     "cellMetadata": {
      "byteLimit": 2048000,
      "rowLimit": 10000
     },
     "inputWidgets": {},
     "nuid": "7412ed9c-d4da-458a-a994-fd36aa0d31be",
     "showTitle": false,
     "tableResultSettingsMap": {},
     "title": ""
    }
   },
   "outputs": [
    {
     "output_type": "stream",
     "name": "stdout",
     "output_type": "stream",
     "text": [
     
     ]
    }
   ],
   "source": [
    "#Install prerequisite packages\n",
    "!pip install python-dotenv==1.0.0\n",
    "\n",
    "!pip install llama-index==0.10.59\n",
    "!pip install llama-index-llms-openai==0.1.27\n",
    "!pip install llama-index-embeddings-openai==0.1.11\n",
    "!pip install llama-index-llms-azure-openai==0.1.10\n",
    "!pip install llama-index-embeddings-azure-openai==0.1.11\n"
   ]
  },
  {
   "cell_type": "code",
   "execution_count": 0,
   "metadata": {
    "application/vnd.databricks.v1+cell": {
     "cellMetadata": {
      "byteLimit": 2048000,
      "rowLimit": 10000
     },
     "inputWidgets": {},
     "nuid": "b77f7952-5a00-44cc-9cc7-7623412ad8d4",
     "showTitle": false,
     "tableResultSettingsMap": {},
     "title": ""
    }
   },
   "outputs": [],
   "source": [
    "#Setup Azure Open AI connection\n",
    "from llama_index.llms.azure_openai import AzureOpenAI\n",
    "from llama_index.embeddings.azure_openai import AzureOpenAIEmbedding\n",
    "\n",
    "from llama_index.core import Settings\n",
    "import os\n",
    "import nest_asyncio\n",
    "\n",
    "nest_asyncio.apply()\n",
    "\n",
    "#API info. Replace with your own keys and end points\n",
    "api_key=\"\"\n",
    "azure_endpoint=\"\"\n",
    "azure_deployment=\"GPT4-O\"\n",
    "api_version=\"2024-12-01-preview\"\n",
    "\n",
    "#Setup the LLM\n",
    "Settings.llm=AzureOpenAI(\n",
    "    model=\"gpt-4o\",\n",
    "    deployment_name=azure_deployment,\n",
    "    api_key=api_key,\n",
    "    azure_endpoint=azure_endpoint,\n",
    "    api_version=api_version,\n",
    ")\n",
    "\n",
    "#Setup the embedding model RAG\n",
    "Settings.embed_model= AzureOpenAIEmbedding(\n",
    "    model=\"text-embedding-ada-002\",\n",
    "    deployment_name=\"text-embedding-ada-002\",\n",
    "    api_key='',\n",
    "    azure_endpoint='',\n",
    "    api_version='2023-05-15',\n",
    ")"
   ]
  },
  {
   "cell_type": "code",
   "execution_count": 0,
   "metadata": {
    "application/vnd.databricks.v1+cell": {
     "cellMetadata": {
      "byteLimit": 2048000,
      "rowLimit": 10000
     },
     "inputWidgets": {},
     "nuid": "4ac1604a-0a15-4254-af66-429a61d7c04b",
     "showTitle": false,
     "tableResultSettingsMap": {},
     "title": ""
    }
   },
   "outputs": [
    {
     "output_type": "display_data",
     "data": {
      "application/databricks.mlflow.trace": "[\"tr-62c1e8815715468cba43c91bacf79e24\", \"tr-78e977e29c1442409cc0074c9720ce6b\"]",
      "text/plain": [
       "[Trace(request_id=tr-62c1e8815715468cba43c91bacf79e24), Trace(request_id=tr-78e977e29c1442409cc0074c9720ce6b)]"
      ]
     },
     "metadata": {},
     "output_type": "display_data"
    }
   ],
   "source": [
    "#Create indexes for vector search\n",
    "from llama_index.core import SimpleDirectoryReader\n",
    "from llama_index.core.node_parser import SentenceSplitter\n",
    "from llama_index.core import  VectorStoreIndex\n",
    "\n",
    "splitter=SentenceSplitter(chunk_size=1024)\n",
    "\n",
    "#-------------------------------------------------------------------\n",
    "#Setup Aeroflow document index\n",
    "#-------------------------------------------------------------------\n",
    "aeroflow_documents=SimpleDirectoryReader(\n",
    "    input_files=[\"/Workspace/Users/yfatima1@optumcloud.com/AeroFlow_Specification_Document.pdf\"])\\\n",
    "            .load_data()\n",
    "\n",
    "#Read documents into nodes\n",
    "aeroflow_nodes=splitter.get_nodes_from_documents(aeroflow_documents)\n",
    "#Create a vector Store\n",
    "aeroflow_index=VectorStoreIndex(aeroflow_nodes)\n",
    "#Create a query engine\n",
    "aeroflow_query_engine = aeroflow_index.as_query_engine()"
   ]
  },
  {
   "cell_type": "code",
   "execution_count": 0,
   "metadata": {
    "application/vnd.databricks.v1+cell": {
     "cellMetadata": {
      "byteLimit": 2048000,
      "rowLimit": 10000
     },
     "inputWidgets": {},
     "nuid": "afc8b3d9-b9ed-4bcb-9d71-c71c644d9154",
     "showTitle": false,
     "tableResultSettingsMap": {},
     "title": ""
    }
   },
   "outputs": [
    {
     "output_type": "display_data",
     "data": {
      "application/databricks.mlflow.trace": "[\"tr-4450f7e63af046299673ef84c9bb870b\", \"tr-9dfabc819c4e410ca1197b8c9862ec2e\"]",
      "text/plain": [
       "[Trace(request_id=tr-4450f7e63af046299673ef84c9bb870b), Trace(request_id=tr-9dfabc819c4e410ca1197b8c9862ec2e)]"
      ]
     },
     "metadata": {},
     "output_type": "display_data"
    }
   ],
   "source": [
    "#-------------------------------------------------------------------\n",
    "#Setup EchoSprint document index\n",
    "#-------------------------------------------------------------------\n",
    "ecosprint_documents=SimpleDirectoryReader(\n",
    "    input_files=[\"EcoSprint_Specification_Document.pdf\"])\\\n",
    "            .load_data()\n",
    "#Read documents into nodes\n",
    "ecosprint_nodes=splitter.get_nodes_from_documents(ecosprint_documents)\n",
    "#Create a vector Store\n",
    "ecosprint_index=VectorStoreIndex(ecosprint_nodes)\n",
    "#Create a query engine\n",
    "ecosprint_query_engine = ecosprint_index.as_query_engine()"
   ]
  },
  {
   "cell_type": "code",
   "execution_count": 0,
   "metadata": {
    "application/vnd.databricks.v1+cell": {
     "cellMetadata": {
      "byteLimit": 2048000,
      "rowLimit": 10000
     },
     "inputWidgets": {},
     "nuid": "69aeeca4-abd7-4efb-8030-5a752b09512a",
     "showTitle": false,
     "tableResultSettingsMap": {},
     "title": ""
    }
   },
   "outputs": [],
   "source": [
    "from llama_index.core.tools import QueryEngineTool\n",
    "from llama_index.core.query_engine.router_query_engine import RouterQueryEngine\n",
    "from llama_index.core.selectors import LLMSingleSelector\n",
    "\n",
    "#Create a query engine Tool for NoSQL\n",
    "aeroflow_tool = QueryEngineTool.from_defaults(\n",
    "    query_engine=aeroflow_query_engine,\n",
    "    name=\"Aeroflow specifications\",\n",
    "    description=(\n",
    "        \"Contains information about Aeroflow : Design, features, technology, maintenance, warranty\"\n",
    "    ),\n",
    ")\n",
    "\n",
    "#Create a query engine Tool for NLP\n",
    "ecosprint_tool = QueryEngineTool.from_defaults(\n",
    "    query_engine=ecosprint_query_engine,\n",
    "    name=\"EcoSprint specifications\",\n",
    "    description=(\n",
    "        \"Contains information about EcoSprint : Design, features, technology, maintenance, warranty\"\n",
    "    ),\n",
    ")\n",
    "\n",
    "#Create a Router Agent. Provide the Tools to the Agent\n",
    "router_agent=RouterQueryEngine(\n",
    "    selector=LLMSingleSelector.from_defaults(),\n",
    "    query_engine_tools=[\n",
    "        aeroflow_tool,\n",
    "        ecosprint_tool,\n",
    "    ],\n",
    "    verbose=True\n",
    ")"
   ]
  },
  {
   "cell_type": "code",
   "execution_count": 0,
   "metadata": {
    "application/vnd.databricks.v1+cell": {
     "cellMetadata": {
      "byteLimit": 2048000,
      "rowLimit": 10000
     },
     "inputWidgets": {},
     "nuid": "2648ed41-81a4-40f2-8cb6-12148ee7fcdf",
     "showTitle": false,
     "tableResultSettingsMap": {},
     "title": ""
    }
   },
   "outputs": [
    {
     "output_type": "stream",
     "name": "stdout",
     "output_type": "stream",
     "text": [
      "\u001B[1;3;38;5;200mSelecting query engine 0: The question asks about AeroFlow, and choice 1 contains information about Aeroflow, which is relevant to the inquiry..\n\u001B[0m\nResponse:  The AeroFlow is available in Coastal Blue, Sunset Orange, and Pearl White.\n"
     ]
    },
    {
     "output_type": "display_data",
     "data": {
      "application/databricks.mlflow.trace": "\"tr-abab21fe1fa243e89bc253d070e2b8bd\"",
      "text/plain": [
       "Trace(request_id=tr-abab21fe1fa243e89bc253d070e2b8bd)"
      ]
     },
     "metadata": {},
     "output_type": "display_data"
    }
   ],
   "source": [
    "#Ask a question about NoSQL\n",
    "response = router_agent.query(\"What colors are available for AeroFlow?\")\n",
    "print(\"\\nResponse: \",str(response))"
   ]
  },
  {
   "cell_type": "code",
   "execution_count": 0,
   "metadata": {
    "application/vnd.databricks.v1+cell": {
     "cellMetadata": {
      "byteLimit": 2048000,
      "rowLimit": 10000
     },
     "inputWidgets": {},
     "nuid": "f2fb9dd5-dc0e-4a59-883d-5e48b46bfe93",
     "showTitle": false,
     "tableResultSettingsMap": {},
     "title": ""
    }
   },
   "outputs": [
    {
     "output_type": "stream",
     "name": "stdout",
     "output_type": "stream",
     "text": [
      "\u001B[1;3;38;5;200mSelecting query engine 1: The question is about EcoSprint, and choice 2 contains information about EcoSprint..\n\u001B[0m\nResponse:  The EcoSprint is available in Midnight Black, Ocean Blue, and Pearl White.\n"
     ]
    },
    {
     "output_type": "display_data",
     "data": {
      "application/databricks.mlflow.trace": "\"tr-c12a4eea051e482189788d89851d167e\"",
      "text/plain": [
       "Trace(request_id=tr-c12a4eea051e482189788d89851d167e)"
      ]
     },
     "metadata": {},
     "output_type": "display_data"
    }
   ],
   "source": [
    "response = router_agent.query(\"What colors are available for EcoSprint?\")\n",
    "print(\"\\nResponse: \",str(response))"
   ]
  },
  {
   "cell_type": "code",
   "execution_count": 0,
   "metadata": {
    "application/vnd.databricks.v1+cell": {
     "cellMetadata": {},
     "inputWidgets": {},
     "nuid": "4a751a15-0797-455e-a30b-25aff6de6af9",
     "showTitle": false,
     "tableResultSettingsMap": {},
     "title": ""
    }
   },
   "outputs": [],
   "source": []
  }
 ],
 "metadata": {
  "application/vnd.databricks.v1+notebook": {
   "computePreferences": null,
   "dashboards": [],
   "environmentMetadata": {
    "base_environment": "",
    "environment_version": "2"
   },
   "inputWidgetPreferences": null,
   "language": "python",
   "notebookMetadata": {
    "pythonIndentUnit": 4
   },
   "notebookName": "router agent",
   "widgets": {}
  },
  "language_info": {
   "name": "python"
  }
 },
 "nbformat": 4,
 "nbformat_minor": 0
}
